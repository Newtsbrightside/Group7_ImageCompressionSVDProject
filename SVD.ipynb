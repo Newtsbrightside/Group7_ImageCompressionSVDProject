{
 "cells": [
  {
   "cell_type": "code",
   "execution_count": 8,
   "id": "af1936da-f70a-448a-a174-8f674b3a21d6",
   "metadata": {},
   "outputs": [
    {
     "name": "stdout",
     "output_type": "stream",
     "text": [
      "Original Matrix A:\n",
      " [[ 4 11 14]\n",
      " [ 8  7 -2]]\n",
      "\n",
      "U:\n",
      " [[-0.95 -0.32]\n",
      " [-0.32  0.95]]\n",
      "\n",
      "s:\n",
      " [18.97  9.49]\n",
      "\n",
      "Vt:\n",
      " [[-0.33 -0.67 -0.67]\n",
      " [ 0.67  0.33 -0.67]]\n",
      "\n",
      "Reconstructed A (using all singular values):\n",
      " [[ 4. 11. 14.]\n",
      " [ 8.  7. -2.]]\n",
      "\n",
      "Reconstruction error): 0.0\n"
     ]
    }
   ],
   "source": [
    "import numpy as np\n",
    "\n",
    "# Format the output with 2 decimal places.\n",
    "np.set_printoptions(precision=2, suppress=True)\n",
    "\n",
    "# 1. Give a matrix\n",
    "A = np.array([[4,11,14],\n",
    "              [8,7,-2]])\n",
    "print(\"Original Matrix A:\\n\", A)\n",
    "\n",
    "# 2. SVD\n",
    "U, s, Vt = np.linalg.svd(A, full_matrices=False)\n",
    "\n",
    "print(\"\\nU:\\n\", U)   # left singular vectors \n",
    "print(\"\\ns:\\n\", s)     # singular values  (1D array)\n",
    "print(\"\\nVt:\\n\", Vt)   # right singular vectors  (transposed)\n",
    "\n",
    "# 3. reconstruct origional matrix\n",
    "S = np.diag(s)  # transform singular values from 1D array into diagonal matrix\n",
    "A_reconstructed = U @ S @ Vt\n",
    "\n",
    "print(\"\\nReconstructed A (using all singular values):\\n\", A_reconstructed)\n",
    "print(\"\\nReconstruction error):\", np.round(np.linalg.norm(A - A_reconstructed),2))"
   ]
  },
  {
   "cell_type": "code",
   "execution_count": 7,
   "id": "2b5553f9-c4da-4bce-a5ce-85725b5bbe21",
   "metadata": {},
   "outputs": [
    {
     "name": "stdout",
     "output_type": "stream",
     "text": [
      "\n",
      "U_k:\n",
      " [[-0.95]\n",
      " [-0.32]]\n",
      "\n",
      "S_k:\n",
      " [[18.97]]\n",
      "\n",
      "Vt_k:\n",
      " [[-0.33 -0.67 -0.67]]\n",
      "\n",
      "Low-rank approximation with k=1:\n",
      " [[ 6. 12. 12.]\n",
      " [ 2.  4.  4.]]\n",
      "\n",
      "Approximation error: 9.49\n"
     ]
    }
   ],
   "source": [
    "# 4. Low-rank approximation via truncated singular values\n",
    "k = 1  # Only use the first singular values\n",
    "U_k = U[:, :k]\n",
    "S_k = np.diag(s[:k])\n",
    "Vt_k = Vt[:k, :]\n",
    "A_approx = U_k @ S_k @ Vt_k\n",
    "\n",
    "print(\"\\nU_k:\\n\", U_k)   \n",
    "print(\"\\nS_k:\\n\", S_k)\n",
    "print(\"\\nVt_k:\\n\", Vt_k)\n",
    "\n",
    "print(f\"\\nLow-rank approximation with k={k}:\\n\", A_approx)\n",
    "print(\"\\nApproximation error:\", np.round(np.linalg.norm(A - A_approx),2))"
   ]
  },
  {
   "cell_type": "code",
   "execution_count": 4,
   "id": "ae5fb93a-d08e-4f57-af95-30556d33266b",
   "metadata": {},
   "outputs": [
    {
     "name": "stdout",
     "output_type": "stream",
     "text": [
      "Original Matrix A:\n",
      " [[2 1]\n",
      " [1 2]]\n",
      "\n",
      "U:\n",
      " [[-0.71 -0.71]\n",
      " [-0.71  0.71]]\n",
      "\n",
      "s:\n",
      " [3. 1.]\n",
      "\n",
      "Vt:\n",
      " [[-0.71 -0.71]\n",
      " [-0.71  0.71]]\n",
      "\n",
      "Reconstructed A (using all singular values):\n",
      " [[2. 1.]\n",
      " [1. 2.]]\n",
      "\n",
      "Reconstruction error): 0.0\n"
     ]
    }
   ],
   "source": [
    "import numpy as np\n",
    "\n",
    "# Format the output with 2 decimal places.\n",
    "np.set_printoptions(precision=2, suppress=True)\n",
    "\n",
    "# 1. Give a matrix\n",
    "A = np.array([[2,1],[1,2]])\n",
    "print(\"Original Matrix A:\\n\", A)\n",
    "\n",
    "# 2. SVD\n",
    "U, s, Vt = np.linalg.svd(A, full_matrices=False)\n",
    "\n",
    "print(\"\\nU:\\n\", U)   # left singular vectors \n",
    "print(\"\\ns:\\n\", s)     # singular values  (1D array)\n",
    "print(\"\\nVt:\\n\", Vt)   # right singular vectors  (transposed)\n",
    "\n",
    "# 3. reconstruct origional matrix\n",
    "S = np.diag(s)  # transform singular values from 1D array into diagonal matrix\n",
    "A_reconstructed = U @ S @ Vt\n",
    "\n",
    "print(\"\\nReconstructed A (using all singular values):\\n\", A_reconstructed)\n",
    "print(\"\\nReconstruction error):\", np.round(np.linalg.norm(A - A_reconstructed),2))"
   ]
  },
  {
   "cell_type": "code",
   "execution_count": 5,
   "id": "d7c02942-6e21-46d8-9f4f-daf50eb3b7c4",
   "metadata": {},
   "outputs": [
    {
     "name": "stdout",
     "output_type": "stream",
     "text": [
      "Original Matrix A:\n",
      " [[2 1 4]\n",
      " [1 2 9]]\n",
      "\n",
      "U:\n",
      " [[-0.43 -0.9 ]\n",
      " [-0.9   0.43]]\n",
      "\n",
      "s:\n",
      " [10.25  1.4 ]\n",
      "\n",
      "Vt:\n",
      " [[-0.17 -0.22 -0.96]\n",
      " [-0.98 -0.03  0.18]]\n",
      "\n",
      "Reconstructed A (using all singular values):\n",
      " [[2. 1. 4.]\n",
      " [1. 2. 9.]]\n",
      "\n",
      "Reconstruction error): 0.0\n"
     ]
    }
   ],
   "source": [
    "import numpy as np\n",
    "\n",
    "# Format the output with 2 decimal places.\n",
    "np.set_printoptions(precision=2, suppress=True)\n",
    "\n",
    "# 1. Give a matrix\n",
    "A = np.array([[2,1,4],[1,2,9]])\n",
    "print(\"Original Matrix A:\\n\", A)\n",
    "\n",
    "# 2. SVD\n",
    "U, s, Vt = np.linalg.svd(A, full_matrices=False)\n",
    "\n",
    "print(\"\\nU:\\n\", U)   # left singular vectors \n",
    "print(\"\\ns:\\n\", s)     # singular values  (1D array)\n",
    "print(\"\\nVt:\\n\", Vt)   # right singular vectors  (transposed)\n",
    "\n",
    "# 3. reconstruct origional matrix\n",
    "S = np.diag(s)  # transform singular values from 1D array into diagonal matrix\n",
    "A_reconstructed = U @ S @ Vt\n",
    "\n",
    "print(\"\\nReconstructed A (using all singular values):\\n\", A_reconstructed)\n",
    "print(\"\\nReconstruction error):\", np.round(np.linalg.norm(A - A_reconstructed),2))"
   ]
  },
  {
   "cell_type": "code",
   "execution_count": null,
   "id": "495b29b2-e767-443b-bc59-c39187276099",
   "metadata": {},
   "outputs": [],
   "source": []
  }
 ],
 "metadata": {
  "kernelspec": {
   "display_name": "Python (pclPython310)",
   "language": "python",
   "name": "pclpython310"
  },
  "language_info": {
   "codemirror_mode": {
    "name": "ipython",
    "version": 3
   },
   "file_extension": ".py",
   "mimetype": "text/x-python",
   "name": "python",
   "nbconvert_exporter": "python",
   "pygments_lexer": "ipython3",
   "version": "3.10.18"
  }
 },
 "nbformat": 4,
 "nbformat_minor": 5
}
